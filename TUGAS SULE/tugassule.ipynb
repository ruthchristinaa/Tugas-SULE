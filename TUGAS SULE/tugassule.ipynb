{
  "cells": [
    {
      "metadata": {
        "trusted": true
      },
      "cell_type": "code",
      "source": "#import library\nimport pandas as pd\nimport numpy as np\nimport matplotlib.pyplot as plt\nfrom sklearn.linear_model import LogisticRegression\nfrom sklearn.metrics import classification_report\nfrom sklearn.metrics import accuracy_score\nfrom sklearn.model_selection import train_test_split",
      "execution_count": 2,
      "outputs": []
    },
    {
      "metadata": {
        "trusted": true
      },
      "cell_type": "code",
      "source": "from sklearn.model_selection import train_test_split",
      "execution_count": 77,
      "outputs": []
    },
    {
      "metadata": {
        "trusted": true
      },
      "cell_type": "code",
      "source": "#memabaca dataset\ndataFrame = pd.read_csv(\"customer.csv\")",
      "execution_count": 49,
      "outputs": []
    },
    {
      "metadata": {
        "trusted": true
      },
      "cell_type": "code",
      "source": "#mencetak hasil dataset\nprint(dataFrame)",
      "execution_count": 50,
      "outputs": [
        {
          "output_type": "stream",
          "text": "     CustomerID  Gender  Age  Annual Income (k$)  Spending Score (1-100)\n0             1    Male   19                  15                      39\n1             2    Male   21                  15                      81\n2             3  Female   20                  16                       6\n3             4  Female   23                  16                      77\n4             5  Female   31                  17                      40\n5             6  Female   22                  17                      76\n6             7  Female   35                  18                       6\n7             8  Female   23                  18                      94\n8             9    Male   64                  19                       3\n9            10  Female   30                  19                      72\n10           11    Male   67                  19                      14\n11           12  Female   35                  19                      99\n12           13  Female   58                  20                      15\n13           14  Female   24                  20                      77\n14           15    Male   37                  20                      13\n15           16    Male   22                  20                      79\n16           17  Female   35                  21                      35\n17           18    Male   20                  21                      66\n18           19    Male   52                  23                      29\n19           20  Female   35                  23                      98\n20           21    Male   35                  24                      35\n21           22    Male   25                  24                      73\n22           23  Female   46                  25                       5\n23           24    Male   31                  25                      73\n24           25  Female   54                  28                      14\n25           26    Male   29                  28                      82\n26           27  Female   45                  28                      32\n27           28    Male   35                  28                      61\n28           29  Female   40                  29                      31\n29           30  Female   23                  29                      87\n..          ...     ...  ...                 ...                     ...\n170         171    Male   40                  87                      13\n171         172    Male   28                  87                      75\n172         173    Male   36                  87                      10\n173         174    Male   36                  87                      92\n174         175  Female   52                  88                      13\n175         176  Female   30                  88                      86\n176         177    Male   58                  88                      15\n177         178    Male   27                  88                      69\n178         179    Male   59                  93                      14\n179         180    Male   35                  93                      90\n180         181  Female   37                  97                      32\n181         182  Female   32                  97                      86\n182         183    Male   46                  98                      15\n183         184  Female   29                  98                      88\n184         185  Female   41                  99                      39\n185         186    Male   30                  99                      97\n186         187  Female   54                 101                      24\n187         188    Male   28                 101                      68\n188         189  Female   41                 103                      17\n189         190  Female   36                 103                      85\n190         191  Female   34                 103                      23\n191         192  Female   32                 103                      69\n192         193    Male   33                 113                       8\n193         194  Female   38                 113                      91\n194         195  Female   47                 120                      16\n195         196  Female   35                 120                      79\n196         197  Female   45                 126                      28\n197         198    Male   32                 126                      74\n198         199    Male   32                 137                      18\n199         200    Male   30                 137                      83\n\n[200 rows x 5 columns]\n",
          "name": "stdout"
        }
      ]
    },
    {
      "metadata": {
        "trusted": true
      },
      "cell_type": "code",
      "source": "dataFrame.head(10)",
      "execution_count": 51,
      "outputs": [
        {
          "output_type": "execute_result",
          "execution_count": 51,
          "data": {
            "text/html": "<div>\n<style scoped>\n    .dataframe tbody tr th:only-of-type {\n        vertical-align: middle;\n    }\n\n    .dataframe tbody tr th {\n        vertical-align: top;\n    }\n\n    .dataframe thead th {\n        text-align: right;\n    }\n</style>\n<table border=\"1\" class=\"dataframe\">\n  <thead>\n    <tr style=\"text-align: right;\">\n      <th></th>\n      <th>CustomerID</th>\n      <th>Gender</th>\n      <th>Age</th>\n      <th>Annual Income (k$)</th>\n      <th>Spending Score (1-100)</th>\n    </tr>\n  </thead>\n  <tbody>\n    <tr>\n      <th>0</th>\n      <td>1</td>\n      <td>Male</td>\n      <td>19</td>\n      <td>15</td>\n      <td>39</td>\n    </tr>\n    <tr>\n      <th>1</th>\n      <td>2</td>\n      <td>Male</td>\n      <td>21</td>\n      <td>15</td>\n      <td>81</td>\n    </tr>\n    <tr>\n      <th>2</th>\n      <td>3</td>\n      <td>Female</td>\n      <td>20</td>\n      <td>16</td>\n      <td>6</td>\n    </tr>\n    <tr>\n      <th>3</th>\n      <td>4</td>\n      <td>Female</td>\n      <td>23</td>\n      <td>16</td>\n      <td>77</td>\n    </tr>\n    <tr>\n      <th>4</th>\n      <td>5</td>\n      <td>Female</td>\n      <td>31</td>\n      <td>17</td>\n      <td>40</td>\n    </tr>\n    <tr>\n      <th>5</th>\n      <td>6</td>\n      <td>Female</td>\n      <td>22</td>\n      <td>17</td>\n      <td>76</td>\n    </tr>\n    <tr>\n      <th>6</th>\n      <td>7</td>\n      <td>Female</td>\n      <td>35</td>\n      <td>18</td>\n      <td>6</td>\n    </tr>\n    <tr>\n      <th>7</th>\n      <td>8</td>\n      <td>Female</td>\n      <td>23</td>\n      <td>18</td>\n      <td>94</td>\n    </tr>\n    <tr>\n      <th>8</th>\n      <td>9</td>\n      <td>Male</td>\n      <td>64</td>\n      <td>19</td>\n      <td>3</td>\n    </tr>\n    <tr>\n      <th>9</th>\n      <td>10</td>\n      <td>Female</td>\n      <td>30</td>\n      <td>19</td>\n      <td>72</td>\n    </tr>\n  </tbody>\n</table>\n</div>",
            "text/plain": "   CustomerID  Gender  Age  Annual Income (k$)  Spending Score (1-100)\n0           1    Male   19                  15                      39\n1           2    Male   21                  15                      81\n2           3  Female   20                  16                       6\n3           4  Female   23                  16                      77\n4           5  Female   31                  17                      40\n5           6  Female   22                  17                      76\n6           7  Female   35                  18                       6\n7           8  Female   23                  18                      94\n8           9    Male   64                  19                       3\n9          10  Female   30                  19                      72"
          },
          "metadata": {}
        }
      ]
    },
    {
      "metadata": {
        "trusted": true
      },
      "cell_type": "code",
      "source": "dataFrame.isna().values.any()",
      "execution_count": 52,
      "outputs": [
        {
          "output_type": "execute_result",
          "execution_count": 52,
          "data": {
            "text/plain": "False"
          },
          "metadata": {}
        }
      ]
    },
    {
      "metadata": {
        "trusted": true
      },
      "cell_type": "code",
      "source": "print(dataFrame.dtypes)",
      "execution_count": 53,
      "outputs": [
        {
          "output_type": "stream",
          "text": "CustomerID                 int64\nGender                    object\nAge                        int64\nAnnual Income (k$)         int64\nSpending Score (1-100)     int64\ndtype: object\n",
          "name": "stdout"
        }
      ]
    },
    {
      "metadata": {
        "trusted": true
      },
      "cell_type": "code",
      "source": "#ssplit data fitur \nfitur = [ 'CustomerID' ,'Age', 'Annual Income (k$)', 'Spending Score (1-100)']\n",
      "execution_count": 65,
      "outputs": []
    },
    {
      "metadata": {
        "trusted": true
      },
      "cell_type": "code",
      "source": "X= dataFrame[fitur]",
      "execution_count": 66,
      "outputs": []
    },
    {
      "metadata": {
        "trusted": true
      },
      "cell_type": "code",
      "source": "y= dataFrame.Age",
      "execution_count": 67,
      "outputs": []
    },
    {
      "metadata": {
        "trusted": true
      },
      "cell_type": "code",
      "source": "x = dataFrame.iloc[:, 3:4]\ny = dataFrame.iloc[:, 4]\n\nX_train,X_test,y_train,y_test=train_test_split(X,y,test_size=0.25, random_state=123)",
      "execution_count": 68,
      "outputs": []
    },
    {
      "metadata": {
        "trusted": true
      },
      "cell_type": "code",
      "source": "# import kelas\nfrom sklearn.linear_model import LogisticRegression",
      "execution_count": 78,
      "outputs": []
    },
    {
      "metadata": {
        "trusted": true
      },
      "cell_type": "code",
      "source": "# menggunakan parameter\nlogreg = LogisticRegression()",
      "execution_count": 79,
      "outputs": []
    },
    {
      "metadata": {
        "trusted": true
      },
      "cell_type": "code",
      "source": "# menggunakan fit\nlogreg.fit(X_train,y_train)",
      "execution_count": 80,
      "outputs": [
        {
          "output_type": "stream",
          "text": "/home/nbuser/anaconda3_501/lib/python3.6/site-packages/sklearn/linear_model/logistic.py:433: FutureWarning: Default solver will be changed to 'lbfgs' in 0.22. Specify a solver to silence this warning.\n  FutureWarning)\n/home/nbuser/anaconda3_501/lib/python3.6/site-packages/sklearn/linear_model/logistic.py:460: FutureWarning: Default multi_class will be changed to 'auto' in 0.22. Specify the multi_class option to silence this warning.\n  \"this warning.\", FutureWarning)\n",
          "name": "stderr"
        },
        {
          "output_type": "execute_result",
          "execution_count": 80,
          "data": {
            "text/plain": "LogisticRegression(C=1.0, class_weight=None, dual=False, fit_intercept=True,\n          intercept_scaling=1, max_iter=100, multi_class='warn',\n          n_jobs=None, penalty='l2', random_state=None, solver='warn',\n          tol=0.0001, verbose=0, warm_start=False)"
          },
          "metadata": {}
        }
      ]
    },
    {
      "metadata": {
        "trusted": true
      },
      "cell_type": "code",
      "source": "\ny_pred=logreg.predict(X_test)",
      "execution_count": 82,
      "outputs": []
    },
    {
      "metadata": {
        "trusted": true
      },
      "cell_type": "code",
      "source": "predictions = model.predict(X_test)\nprint(predictions)\nprint()\n\nprint(classification_report(y_test,predictions))\nprint(\"accuracy : \", accuracy_score(y_test, predictions))",
      "execution_count": 99,
      "outputs": [
        {
          "output_type": "stream",
          "text": "[55 75 55 75 99 55 75 55 10  1 48 83 16 91 48 55 55 13 55 55 16 55 16 16\n 35 55 42 55 16 55 55 55 83 48 55 75 42 75 42 15 46 16 83 81 55 69 81 42\n 35 55]\n\n              precision    recall  f1-score   support\n\n           1       1.00      1.00      1.00         1\n           5       0.00      0.00      0.00         2\n          10       0.00      0.00      0.00         1\n          11       0.00      0.00      0.00         1\n          12       0.00      0.00      0.00         1\n          13       0.00      0.00      0.00         1\n          14       0.00      0.00      0.00         2\n          15       0.00      0.00      0.00         1\n          16       0.00      0.00      0.00         0\n          17       0.00      0.00      0.00         1\n          20       0.00      0.00      0.00         2\n          32       0.00      0.00      0.00         2\n          35       0.00      0.00      0.00         1\n          39       0.00      0.00      0.00         1\n          40       0.00      0.00      0.00         3\n          41       0.00      0.00      0.00         2\n          42       0.00      0.00      0.00         2\n          43       0.00      0.00      0.00         1\n          46       0.00      0.00      0.00         1\n          48       0.00      0.00      0.00         1\n          49       0.00      0.00      0.00         1\n          52       0.00      0.00      0.00         2\n          54       0.00      0.00      0.00         1\n          55       0.00      0.00      0.00         0\n          56       0.00      0.00      0.00         1\n          57       0.00      0.00      0.00         1\n          60       0.00      0.00      0.00         2\n          69       0.00      0.00      0.00         0\n          71       0.00      0.00      0.00         1\n          72       0.00      0.00      0.00         1\n          73       0.00      0.00      0.00         3\n          75       0.00      0.00      0.00         1\n          81       0.00      0.00      0.00         0\n          83       0.00      0.00      0.00         0\n          85       0.00      0.00      0.00         1\n          88       0.00      0.00      0.00         1\n          90       0.00      0.00      0.00         2\n          91       0.00      0.00      0.00         0\n          92       0.00      0.00      0.00         2\n          95       0.00      0.00      0.00         1\n          97       0.00      0.00      0.00         1\n          98       0.00      0.00      0.00         1\n          99       0.00      0.00      0.00         0\n\n   micro avg       0.02      0.02      0.02        50\n   macro avg       0.02      0.02      0.02        50\nweighted avg       0.02      0.02      0.02        50\n\naccuracy :  0.02\n",
          "name": "stdout"
        },
        {
          "output_type": "stream",
          "text": "/home/nbuser/anaconda3_501/lib/python3.6/site-packages/sklearn/metrics/classification.py:1143: UndefinedMetricWarning: Precision and F-score are ill-defined and being set to 0.0 in labels with no predicted samples.\n  'precision', 'predicted', average, warn_for)\n/home/nbuser/anaconda3_501/lib/python3.6/site-packages/sklearn/metrics/classification.py:1145: UndefinedMetricWarning: Recall and F-score are ill-defined and being set to 0.0 in labels with no true samples.\n  'recall', 'true', average, warn_for)\n/home/nbuser/anaconda3_501/lib/python3.6/site-packages/sklearn/metrics/classification.py:1143: UndefinedMetricWarning: Precision and F-score are ill-defined and being set to 0.0 in labels with no predicted samples.\n  'precision', 'predicted', average, warn_for)\n/home/nbuser/anaconda3_501/lib/python3.6/site-packages/sklearn/metrics/classification.py:1145: UndefinedMetricWarning: Recall and F-score are ill-defined and being set to 0.0 in labels with no true samples.\n  'recall', 'true', average, warn_for)\n/home/nbuser/anaconda3_501/lib/python3.6/site-packages/sklearn/metrics/classification.py:1143: UndefinedMetricWarning: Precision and F-score are ill-defined and being set to 0.0 in labels with no predicted samples.\n  'precision', 'predicted', average, warn_for)\n/home/nbuser/anaconda3_501/lib/python3.6/site-packages/sklearn/metrics/classification.py:1145: UndefinedMetricWarning: Recall and F-score are ill-defined and being set to 0.0 in labels with no true samples.\n  'recall', 'true', average, warn_for)\n",
          "name": "stderr"
        }
      ]
    },
    {
      "metadata": {
        "trusted": true
      },
      "cell_type": "code",
      "source": "#mengimport modul package nya \nimport numpy as np\nimport matplotlib.pyplot as plt\nimport seaborn as sns\n%matplotlib inline",
      "execution_count": 73,
      "outputs": []
    },
    {
      "metadata": {
        "trusted": true,
        "scrolled": true
      },
      "cell_type": "code",
      "source": "class_names=[0,1] # nama kelas \nfig, ax = plt.subplots()\ntick_marks = np.arange(len(class_names))\nplt.xticks(tick_marks, class_names)\nplt.yticks(tick_marks, class_names)\n# membuat heatmap\nsns.heatmap(pd.DataFrame(cnf_matrix), annot=True, cmap=\"YlGnBu\" ,fmt='g')\nax.xaxis.set_label_position(\"top\")\nplt.tight_layout()\nplt.title('Confusion matrix', y=1.1)\nplt.ylabel('Actual label')\nplt.xlabel('Predicted label')",
      "execution_count": 85,
      "outputs": [
        {
          "output_type": "execute_result",
          "execution_count": 85,
          "data": {
            "text/plain": "Text(0.5, 257.44, 'Predicted label')"
          },
          "metadata": {}
        },
        {
          "output_type": "display_data",
          "data": {
            "image/png": "[encoded data removed]",
            "text/plain": "<Figure size 432x288 with 2 Axes>"
          },
          "metadata": {
            "needs_background": "light"
          }
        }
      ]
    },
    {
      "metadata": {
        "trusted": true
      },
      "cell_type": "code",
      "source": "# import the metrics class\nfrom sklearn import metrics\ncnf_matrix = metrics.confusion_matrix(y_test, y_pred)\ncnf_matrix",
      "execution_count": 93,
      "outputs": [
        {
          "output_type": "execute_result",
          "execution_count": 93,
          "data": {
            "text/plain": "array([[1, 0, 0, ..., 0, 0, 0],\n       [0, 0, 1, ..., 0, 0, 0],\n       [0, 0, 0, ..., 0, 0, 0],\n       ...,\n       [0, 0, 0, ..., 0, 0, 0],\n       [0, 0, 0, ..., 0, 0, 1],\n       [0, 0, 0, ..., 0, 0, 0]])"
          },
          "metadata": {}
        }
      ]
    },
    {
      "metadata": {
        "trusted": true
      },
      "cell_type": "code",
      "source": "print(\"Accuracy:\",metrics.accuracy_score(y_test, y_pred))\n",
      "execution_count": 95,
      "outputs": [
        {
          "output_type": "stream",
          "text": "Accuracy: 0.02\n",
          "name": "stdout"
        }
      ]
    },
    {
      "metadata": {
        "trusted": true
      },
      "cell_type": "code",
      "source": "",
      "execution_count": null,
      "outputs": []
    }
  ],
  "metadata": {
    "kernelspec": {
      "name": "python36",
      "display_name": "Python 3.6",
      "language": "python"
    },
    "language_info": {
      "mimetype": "text/x-python",
      "nbconvert_exporter": "python",
      "name": "python",
      "pygments_lexer": "ipython3",
      "version": "3.6.6",
      "file_extension": ".py",
      "codemirror_mode": {
        "version": 3,
        "name": "ipython"
      }
    }
  },
  "nbformat": 4,
  "nbformat_minor": 2
}